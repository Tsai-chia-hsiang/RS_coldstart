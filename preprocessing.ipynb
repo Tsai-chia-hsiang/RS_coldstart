{
 "cells": [
  {
   "cell_type": "code",
   "execution_count": 1,
   "metadata": {},
   "outputs": [],
   "source": [
    "import pandas as pd\n",
    "from tqdm import tqdm\n",
    "import os\n",
    "import json\n",
    "import numpy as np\n",
    "import matplotlib.pyplot as plt\n",
    "from RS.utils.dictutils import *\n",
    "from RS.utils.dataset import transpose_df\n",
    "\n",
    "\n",
    "dataroot = os.path.join(\"data\")\n",
    "course_dataroot = os.path.join(dataroot,\"course\")\n",
    "book_dataroot = os.path.join(dataroot,\"book\")"
   ]
  },
  {
   "attachments": {},
   "cell_type": "markdown",
   "metadata": {},
   "source": [
    "## Course data (2010-2021)"
   ]
  },
  {
   "cell_type": "code",
   "execution_count": null,
   "metadata": {},
   "outputs": [],
   "source": [
    "c = pd.read_csv(\n",
    "    os.path.join(course_dataroot,\"record_2010_to_2021.csv\"),\n",
    "    encoding='utf-8'\n",
    ")\n",
    "\n",
    "c.head()"
   ]
  },
  {
   "attachments": {},
   "cell_type": "markdown",
   "metadata": {},
   "source": [
    "### Group by users"
   ]
  },
  {
   "cell_type": "code",
   "execution_count": null,
   "metadata": {},
   "outputs": [],
   "source": [
    "usercourse_2010_2011 = c.groupby(\n",
    "    'uid', as_index=False\n",
    ")['iid'].agg({'course': (lambda x: list(set(x)))})\n",
    "\n",
    "usercourse_2010_2011.head()"
   ]
  },
  {
   "cell_type": "code",
   "execution_count": null,
   "metadata": {},
   "outputs": [],
   "source": [
    "usercourse_2010_2011['uid']=usercourse_2010_2011['uid'].astype(str)"
   ]
  },
  {
   "attachments": {},
   "cell_type": "markdown",
   "metadata": {},
   "source": [
    "## Book lending data (2010-2021)"
   ]
  },
  {
   "cell_type": "code",
   "execution_count": null,
   "metadata": {},
   "outputs": [],
   "source": [
    "b = pd.read_csv(\n",
    "    os.path.join(book_dataroot, \"record_2010_to_2021.csv\"),\n",
    "    encoding='utf-8'\n",
    ")\n",
    "b['uid'] = b['uid'].astype(str)\n",
    "b.head()"
   ]
  },
  {
   "attachments": {},
   "cell_type": "markdown",
   "metadata": {},
   "source": [
    "### Group by user"
   ]
  },
  {
   "cell_type": "code",
   "execution_count": null,
   "metadata": {},
   "outputs": [],
   "source": [
    "userbook_2010_2021 = b.groupby(\n",
    "    'uid', as_index=False\n",
    ")['category'].agg({'c': (lambda x: list(x))})\n",
    "\n",
    "print(userbook_2010_2021.shape)"
   ]
  },
  {
   "cell_type": "code",
   "execution_count": null,
   "metadata": {},
   "outputs": [],
   "source": [
    "user = userbook_2010_2021['uid'].tolist()\n",
    "pre3 = []\n",
    "for i in user:\n",
    "    pre3.append(str(i)[:3])\n",
    "userbook_2010_2021['pref3'] = pre3\n",
    "userbook_2010_2021.head()"
   ]
  },
  {
   "attachments": {},
   "cell_type": "markdown",
   "metadata": {},
   "source": [
    "### Popular book (2021)"
   ]
  },
  {
   "cell_type": "code",
   "execution_count": null,
   "metadata": {},
   "outputs": [],
   "source": [
    "popular = pd.read_csv(\n",
    "    os.path.join(dataroot, \"book\", \"popular\", \"popular_2021.csv\")\n",
    ")\n",
    "popular.head() "
   ]
  },
  {
   "cell_type": "code",
   "execution_count": null,
   "metadata": {},
   "outputs": [],
   "source": [
    "popular_cate3_list = list(\n",
    "    map(lambda x: str(x), popular.cate3.tolist())\n",
    ")\n",
    "print(popular_cate3_list[:5])"
   ]
  },
  {
   "cell_type": "code",
   "execution_count": null,
   "metadata": {},
   "outputs": [],
   "source": [
    "pop_set = []\n",
    "for i in popular_cate3_list:\n",
    "    if i not in pop_set:\n",
    "        try:\n",
    "            u = int(i)\n",
    "            pop_set.append(i)\n",
    "        except:\n",
    "            pass\n",
    "print(pop_set[:5])\n",
    "print(len(pop_set))"
   ]
  },
  {
   "cell_type": "code",
   "execution_count": null,
   "metadata": {},
   "outputs": [],
   "source": [
    "writejson(\n",
    "    {'popluar_2021':pop_set}, \n",
    "    os.path.join(dataroot, \"book\", \"popular\", \"popular.json\")\n",
    ")"
   ]
  },
  {
   "attachments": {},
   "cell_type": "markdown",
   "metadata": {},
   "source": [
    "## Filt-out non-common users for both dataset"
   ]
  },
  {
   "attachments": {},
   "cell_type": "markdown",
   "metadata": {},
   "source": [
    "### Get common user"
   ]
  },
  {
   "cell_type": "code",
   "execution_count": null,
   "metadata": {},
   "outputs": [],
   "source": [
    "lendusers = []\n",
    "for i in tqdm( userbook_2010_2021['uid'].tolist()):\n",
    "    lendui = i.strip()\n",
    "    lendusers.append(lendui)\n",
    "print(lendusers[0])\n",
    "\n",
    "courseusers = []\n",
    "for i in tqdm(usercourse_2010_2011['uid'].tolist()):\n",
    "    courseusers.append(str(i))\n",
    "print(courseusers[0])"
   ]
  },
  {
   "cell_type": "code",
   "execution_count": null,
   "metadata": {},
   "outputs": [],
   "source": [
    "all_users = set()\n",
    "for i in tqdm(lendusers):\n",
    "    all_users.add(i)\n",
    "for i in tqdm(courseusers):\n",
    "    all_users.add(i)\n",
    "\n",
    "all_users = list(all_users)\n",
    "print(len(all_users))"
   ]
  },
  {
   "cell_type": "code",
   "execution_count": null,
   "metadata": {},
   "outputs": [],
   "source": [
    "common_user_list = []\n",
    "for i in tqdm(all_users):\n",
    "    if (i in courseusers) and (i in lendusers):\n",
    "        common_user_list.append(i)\n",
    "print(len(common_user_list))"
   ]
  },
  {
   "cell_type": "code",
   "execution_count": null,
   "metadata": {},
   "outputs": [],
   "source": [
    "with open(os.path.join(dataroot,\"commonuser.txt\"),\"w+\") as f:\n",
    "    for cu in common_user_list:\n",
    "        f.write(f\"{cu}\\n\")"
   ]
  },
  {
   "attachments": {},
   "cell_type": "markdown",
   "metadata": {},
   "source": [
    "### Filt-out non common"
   ]
  },
  {
   "cell_type": "code",
   "execution_count": 3,
   "metadata": {},
   "outputs": [
    {
     "name": "stdout",
     "output_type": "stream",
     "text": [
      "from disk\n",
      "21829\n"
     ]
    }
   ],
   "source": [
    "c = []\n",
    "try:\n",
    "    c = common_user_list\n",
    "except:\n",
    "    print(\"from disk\")\n",
    "    with open(os.path.join(dataroot, \"commonuser.txt\"),\"r\") as f:\n",
    "        for cu in f.readlines():\n",
    "            c.append(cu.strip())\n",
    "\n",
    "common_user_list = c\n",
    "del c\n",
    "print(len(common_user_list))"
   ]
  },
  {
   "cell_type": "code",
   "execution_count": null,
   "metadata": {},
   "outputs": [],
   "source": [
    "lend_common_user_df = userbook_2010_2021[\n",
    "    userbook_2010_2021['uid'].isin(common_user_list)\n",
    "]\n",
    "\n",
    "lend_common_user_df= lend_common_user_df.sort_values(\n",
    "    by=['uid']\n",
    ")"
   ]
  },
  {
   "cell_type": "code",
   "execution_count": null,
   "metadata": {},
   "outputs": [],
   "source": [
    "course_common_user_df = usercourse_2010_2011[\n",
    "    usercourse_2010_2011['uid'].isin(common_user_list)\n",
    "]\n",
    "course_common_user_df = course_common_user_df.sort_values(\n",
    "    by=['uid']\n",
    ")"
   ]
  },
  {
   "cell_type": "code",
   "execution_count": null,
   "metadata": {},
   "outputs": [],
   "source": [
    "print(f\"{lend_common_user_df.shape}, {course_common_user_df.shape}\")"
   ]
  },
  {
   "cell_type": "code",
   "execution_count": null,
   "metadata": {},
   "outputs": [],
   "source": [
    "### Check if user order is correct\n",
    "\n",
    "for i in tqdm(range(lend_common_user_df.shape[0])):\n",
    "    lendui = lend_common_user_df.iloc[i]['uid']\n",
    "    lendui = lendui.strip()\n",
    "    courseui = course_common_user_df.iloc[i]['uid']\n",
    "    courseui = courseui.strip()\n",
    "\n",
    "    if courseui != lendui:\n",
    "        print(f\"{i}  go wrong\")\n",
    "        break"
   ]
  },
  {
   "attachments": {},
   "cell_type": "markdown",
   "metadata": {},
   "source": [
    "### Store as json file"
   ]
  },
  {
   "attachments": {},
   "cell_type": "markdown",
   "metadata": {},
   "source": [
    "#### Course"
   ]
  },
  {
   "cell_type": "code",
   "execution_count": 2,
   "metadata": {},
   "outputs": [],
   "source": [
    "course_common_user_df = pd.read_csv(\n",
    "    os.path.join(course_dataroot,\"commonuser.csv\"),\n",
    "    encoding='utf-8'\n",
    ")"
   ]
  },
  {
   "cell_type": "code",
   "execution_count": null,
   "metadata": {},
   "outputs": [],
   "source": [
    "course_common_user_df.head()"
   ]
  },
  {
   "cell_type": "code",
   "execution_count": 6,
   "metadata": {},
   "outputs": [
    {
     "name": "stderr",
     "output_type": "stream",
     "text": [
      "100%|██████████| 21829/21829 [00:08<00:00, 2663.63it/s]\n"
     ]
    }
   ],
   "source": [
    "with open(os.path.join(dataroot,\"course\",\"commonuser_course.json\"), \"w+\") as f:\n",
    "    user_course_dict={}\n",
    "    for i in tqdm(range(course_common_user_df.shape[0])):\n",
    "        userid =  course_common_user_df.iloc[i]['uid']\n",
    "        userid = int(userid)\n",
    "        usercourses = course_common_user_df.iloc[i]['course']\n",
    "        usercourses = usercourses[1:-1]\n",
    "        usercourses = usercourses.split(\",\")\n",
    "        usercourses = list(c.strip() for c in usercourses)\n",
    "        user_course_dict[userid] = usercourses\n",
    "    json.dump(user_course_dict, f, indent=4)\n"
   ]
  },
  {
   "attachments": {},
   "cell_type": "markdown",
   "metadata": {},
   "source": [
    "#### Book"
   ]
  },
  {
   "cell_type": "code",
   "execution_count": 7,
   "metadata": {},
   "outputs": [],
   "source": [
    "lend_common_user_df = pd.read_csv(\n",
    "    os.path.join(book_dataroot, \"commonuser.csv\"),\n",
    "    encoding=\"utf-8\"\n",
    ")"
   ]
  },
  {
   "cell_type": "code",
   "execution_count": null,
   "metadata": {},
   "outputs": [],
   "source": [
    "lend_common_user_df.head()"
   ]
  },
  {
   "cell_type": "code",
   "execution_count": null,
   "metadata": {},
   "outputs": [],
   "source": [
    "t = lend_common_user_df[lend_common_user_df['uid']==400110002]['c']\n",
    "print(t.values)"
   ]
  },
  {
   "cell_type": "code",
   "execution_count": 13,
   "metadata": {},
   "outputs": [
    {
     "name": "stderr",
     "output_type": "stream",
     "text": [
      "100%|██████████| 21829/21829 [00:08<00:00, 2487.57it/s]\n"
     ]
    }
   ],
   "source": [
    "with open(os.path.join(dataroot,\"book\",\"commonuser_book.json\"), \"w+\") as f:\n",
    "    user_book_dict = {}\n",
    "    for i in tqdm(range(lend_common_user_df.shape[0])):\n",
    "        userid = lend_common_user_df.iloc[i]['uid']\n",
    "        userid = int(userid)\n",
    "        userbooks = lend_common_user_df.iloc[i]['c']\n",
    "        userbooks = userbooks[1:-1].split(\",\")\n",
    "        userbooks = list(b.strip()[1:-1] for b in userbooks)\n",
    "        user_book_dict[userid]=userbooks\n",
    "    json.dump(user_book_dict,f,indent=4)"
   ]
  }
 ],
 "metadata": {
  "kernelspec": {
   "display_name": "tenv",
   "language": "python",
   "name": "python3"
  },
  "language_info": {
   "codemirror_mode": {
    "name": "ipython",
    "version": 3
   },
   "file_extension": ".py",
   "mimetype": "text/x-python",
   "name": "python",
   "nbconvert_exporter": "python",
   "pygments_lexer": "ipython3",
   "version": "3.8.10"
  },
  "orig_nbformat": 4,
  "vscode": {
   "interpreter": {
    "hash": "d1e7557a9eff01b884e6816941520e312afc5d177dd75698efaf90143d68141d"
   }
  }
 },
 "nbformat": 4,
 "nbformat_minor": 2
}
