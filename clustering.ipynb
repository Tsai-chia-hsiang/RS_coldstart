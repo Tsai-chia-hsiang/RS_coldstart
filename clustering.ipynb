{
 "cells": [
  {
   "cell_type": "code",
   "execution_count": 60,
   "metadata": {},
   "outputs": [
    {
     "name": "stdout",
     "output_type": "stream",
     "text": [
      "The autoreload extension is already loaded. To reload it, use:\n",
      "  %reload_ext autoreload\n"
     ]
    }
   ],
   "source": [
    "%load_ext autoreload\n",
    "%autoreload\n",
    "import os\n",
    "from tqdm import tqdm\n",
    "import numpy as np\n",
    "import torch\n",
    "import pandas as pd\n",
    "from sklearn.preprocessing import normalize\n",
    "from RS.utils.dataset import Dataset as Mydataset\n",
    "from RS.utils.dataset import combine_multi_domain\n",
    "from RS.utils.dataset import user_item_clustering\n",
    "from RS.utils.mf import ALS_MF\n",
    "from RS.utils.dictutils import *\n",
    "dataroot = os.path.join(\"data\")\n",
    "d = torch.device('cuda:4')"
   ]
  },
  {
   "cell_type": "code",
   "execution_count": 61,
   "metadata": {},
   "outputs": [
    {
     "name": "stdout",
     "output_type": "stream",
     "text": [
      "build dataset\n",
      "read training_user_course:data/course/train.csv\n",
      "..OK\n",
      "read training_user_book:data/book/user_cate3_train.csv\n",
      "..OK\n",
      "read testing_user_course:data/course/test.csv\n",
      "..OK\n",
      "read testing_user_book:data/book/user_cate3_test.csv\n",
      "..OK\n"
     ]
    }
   ],
   "source": [
    "datafolder = {\n",
    "    \"training_user_course\":os.path.join(\n",
    "        dataroot,\"course\",\"train.csv\"\n",
    "    ),\n",
    "    \"training_user_book\":os.path.join(\n",
    "        dataroot,\"book\",\"user_cate3_train.csv\"\n",
    "    ),\n",
    "    \"testing_user_course\":os.path.join(\n",
    "        dataroot, \"course\", \"test.csv\"\n",
    "    ),\n",
    "    \"testing_user_book\":os.path.join(\n",
    "        dataroot, \"book\", \"user_cate3_test.csv\"\n",
    "    )\n",
    "}\n",
    "\n",
    "\n",
    "dataset = Mydataset(datafolder=datafolder)"
   ]
  },
  {
   "attachments": {},
   "cell_type": "markdown",
   "metadata": {},
   "source": [
    "## Clustering"
   ]
  },
  {
   "cell_type": "code",
   "execution_count": null,
   "metadata": {},
   "outputs": [],
   "source": [
    "user_book_df = dataset.getdata(\n",
    "    \"training_user_book\", normalize_value=True\n",
    ")\n",
    "user_book_df.head()"
   ]
  },
  {
   "cell_type": "code",
   "execution_count": 21,
   "metadata": {},
   "outputs": [
    {
     "name": "stdout",
     "output_type": "stream",
     "text": [
      "random loss: 102.3496293036183\n"
     ]
    },
    {
     "name": "stderr",
     "output_type": "stream",
     "text": [
      " 60%|██████    | 3/5 [00:04<00:02,  1.35s/it, currentbest=0.000, mse=0.000, improve=0.0000, early=3]  \n"
     ]
    },
    {
     "name": "stdout",
     "output_type": "stream",
     "text": [
      "user\n",
      "(20575, 40)\n",
      "clutsering ..\n",
      "OK ..\n",
      "visualization ..\n"
     ]
    },
    {
     "name": "stderr",
     "output_type": "stream",
     "text": [
      "/home/tch/.conda/envs/tenv/lib/python3.9/site-packages/sklearn/manifold/_t_sne.py:795: FutureWarning: The default initialization in TSNE will change from 'random' to 'pca' in 1.2.\n",
      "  warnings.warn(\n",
      "/home/tch/.conda/envs/tenv/lib/python3.9/site-packages/sklearn/manifold/_t_sne.py:805: FutureWarning: The default learning rate in TSNE will change from 200.0 to 'auto' in 1.2.\n",
      "  warnings.warn(\n"
     ]
    },
    {
     "name": "stdout",
     "output_type": "stream",
     "text": [
      "item\n",
      "(1000, 40)\n",
      "clutsering ..\n",
      "OK ..\n",
      "visualization ..\n"
     ]
    },
    {
     "name": "stderr",
     "output_type": "stream",
     "text": [
      "/home/tch/.conda/envs/tenv/lib/python3.9/site-packages/sklearn/manifold/_t_sne.py:795: FutureWarning: The default initialization in TSNE will change from 'random' to 'pca' in 1.2.\n",
      "  warnings.warn(\n",
      "/home/tch/.conda/envs/tenv/lib/python3.9/site-packages/sklearn/manifold/_t_sne.py:805: FutureWarning: The default learning rate in TSNE will change from 200.0 to 'auto' in 1.2.\n",
      "  warnings.warn(\n"
     ]
    }
   ],
   "source": [
    "user_item_clustering(\n",
    "    User_Item_df=user_book_df,\n",
    "    num_clusters=100,\n",
    "    savingpath=os.path.join(\n",
    "        \"result\",\"CBMF\",\"clustering\",\"bookdataset\"\n",
    "    ),\n",
    "    d=d\n",
    ")"
   ]
  },
  {
   "cell_type": "code",
   "execution_count": null,
   "metadata": {},
   "outputs": [],
   "source": [
    "user_course_df = combine_multi_domain(\n",
    "    Dataset=dataset, \n",
    "    domains=[\n",
    "        [\n",
    "            (\"training_user_course\",False,False),\n",
    "            (\"testing_user_course\",False,False)\n",
    "        ]\n",
    "    ]\n",
    ")\n",
    "user_course_df.head()"
   ]
  },
  {
   "cell_type": "code",
   "execution_count": 16,
   "metadata": {},
   "outputs": [
    {
     "name": "stdout",
     "output_type": "stream",
     "text": [
      "random loss: 102.23353621936171\n"
     ]
    },
    {
     "name": "stderr",
     "output_type": "stream",
     "text": [
      " 80%|████████  | 4/5 [00:40<00:10, 10.03s/it, currentbest=0.003, mse=0.003, improve=0.0000, early=3]  \n"
     ]
    },
    {
     "name": "stdout",
     "output_type": "stream",
     "text": [
      "user\n",
      "(21829, 40)\n",
      "clutsering ..\n",
      "OK ..\n",
      "visualization ..\n"
     ]
    },
    {
     "name": "stderr",
     "output_type": "stream",
     "text": [
      "/home/tch/.conda/envs/tenv/lib/python3.9/site-packages/sklearn/manifold/_t_sne.py:795: FutureWarning: The default initialization in TSNE will change from 'random' to 'pca' in 1.2.\n",
      "  warnings.warn(\n",
      "/home/tch/.conda/envs/tenv/lib/python3.9/site-packages/sklearn/manifold/_t_sne.py:805: FutureWarning: The default learning rate in TSNE will change from 200.0 to 'auto' in 1.2.\n",
      "  warnings.warn(\n"
     ]
    },
    {
     "name": "stdout",
     "output_type": "stream",
     "text": [
      "item\n",
      "(7054, 40)\n",
      "clutsering ..\n",
      "OK ..\n",
      "visualization ..\n"
     ]
    },
    {
     "name": "stderr",
     "output_type": "stream",
     "text": [
      "/home/tch/.conda/envs/tenv/lib/python3.9/site-packages/sklearn/manifold/_t_sne.py:795: FutureWarning: The default initialization in TSNE will change from 'random' to 'pca' in 1.2.\n",
      "  warnings.warn(\n",
      "/home/tch/.conda/envs/tenv/lib/python3.9/site-packages/sklearn/manifold/_t_sne.py:805: FutureWarning: The default learning rate in TSNE will change from 200.0 to 'auto' in 1.2.\n",
      "  warnings.warn(\n"
     ]
    }
   ],
   "source": [
    "user_item_clustering(\n",
    "    User_Item_df=user_course_df,\n",
    "    num_clusters=100,\n",
    "    savingpath=os.path.join(\n",
    "        \"result\",\"CBMF\",\"clustering\",\"coursedataset\"\n",
    "    ),\n",
    "    d=d\n",
    ")"
   ]
  },
  {
   "attachments": {},
   "cell_type": "markdown",
   "metadata": {},
   "source": [
    "## Cross domain cluster level matrix"
   ]
  },
  {
   "cell_type": "code",
   "execution_count": 62,
   "metadata": {},
   "outputs": [],
   "source": [
    "book_cluster = loadjson(\n",
    "    os.path.join(\n",
    "        \"result\",\"CBMF\",\n",
    "        \"clustering\",\"bookdataset\",\n",
    "        \"itemclustering\", \"cluster.json\"\n",
    "    )\n",
    ")\n",
    "\n",
    "course_cluster = loadjson(\n",
    "    os.path.join(\n",
    "        \"result\",\"CBMF\",\n",
    "        \"clustering\",\"coursedataset\",\n",
    "        \"itemclustering\", \"cluster.json\"\n",
    "    )\n",
    ")\n",
    "\n",
    "\n",
    "user_course_cluster = loadjson(\n",
    "    os.path.join(\n",
    "        \"result\",\"CBMF\",\n",
    "        \"clustering\",\"coursedataset\",\n",
    "        \"userclustering\", \"cluster.json\"\n",
    "    )\n",
    ")\n",
    "\n",
    "user_book_cluster = loadjson(\n",
    "    os.path.join(\n",
    "        \"result\",\"CBMF\",\n",
    "        \"clustering\",\"bookdataset\",\n",
    "        \"userclustering\", \"cluster.json\"\n",
    "    )\n",
    ")\n",
    "\n",
    "user_book_cluster[\n",
    "    len(user_book_cluster.keys())\n",
    "] = dataset.getdata(\"testing_user_book\").uid.tolist()"
   ]
  },
  {
   "cell_type": "code",
   "execution_count": 63,
   "metadata": {},
   "outputs": [],
   "source": [
    "%autoreload\n",
    "from RS.utils.dataset import cluster_level_matrix"
   ]
  },
  {
   "attachments": {},
   "cell_type": "markdown",
   "metadata": {},
   "source": [
    "### Book "
   ]
  },
  {
   "cell_type": "code",
   "execution_count": 64,
   "metadata": {},
   "outputs": [
    {
     "name": "stdout",
     "output_type": "stream",
     "text": [
      "(100, 100)\n"
     ]
    },
    {
     "name": "stderr",
     "output_type": "stream",
     "text": [
      "100%|██████████| 100/100 [00:05<00:00, 19.38it/s]"
     ]
    },
    {
     "name": "stdout",
     "output_type": "stream",
     "text": [
      "4771/10000\n",
      "(100, 100)\n"
     ]
    },
    {
     "name": "stderr",
     "output_type": "stream",
     "text": [
      "\n"
     ]
    }
   ],
   "source": [
    "courseUser_book = cluster_level_matrix(\n",
    "    R=dataset.getdata(\"training_user_book\"),\n",
    "    user_cluster=user_course_cluster,\n",
    "    item_cluster=book_cluster\n",
    ")\n",
    "print(courseUser_book.shape)"
   ]
  },
  {
   "cell_type": "code",
   "execution_count": 65,
   "metadata": {},
   "outputs": [
    {
     "name": "stdout",
     "output_type": "stream",
     "text": [
      "(101, 100)\n"
     ]
    },
    {
     "name": "stderr",
     "output_type": "stream",
     "text": [
      "100%|██████████| 101/101 [00:05<00:00, 19.27it/s]"
     ]
    },
    {
     "name": "stdout",
     "output_type": "stream",
     "text": [
      "6482/10100\n"
     ]
    },
    {
     "name": "stderr",
     "output_type": "stream",
     "text": [
      "\n"
     ]
    }
   ],
   "source": [
    "bookUser_book = cluster_level_matrix(\n",
    "    R=dataset.getdata(\"training_user_book\"),\n",
    "    user_cluster=user_book_cluster,\n",
    "    item_cluster=book_cluster\n",
    ")"
   ]
  },
  {
   "cell_type": "code",
   "execution_count": 66,
   "metadata": {},
   "outputs": [
    {
     "name": "stdout",
     "output_type": "stream",
     "text": [
      "(201, 100)\n"
     ]
    }
   ],
   "source": [
    "user_book_cluster_level = np.concatenate(\n",
    "    [courseUser_book, bookUser_book ],\n",
    "    axis=0\n",
    ")\n",
    "user_book_cluster_level = normalize(\n",
    "    user_book_cluster_level, norm=\"l1\",axis=1\n",
    ")\n",
    "print(user_book_cluster_level.shape)"
   ]
  },
  {
   "cell_type": "code",
   "execution_count": 72,
   "metadata": {},
   "outputs": [],
   "source": [
    "np.save(\n",
    "    os.path.join('result',\"CBMF\",\"clustering\",\"bookC\"),\n",
    "    user_book_cluster_level\n",
    ")"
   ]
  },
  {
   "attachments": {},
   "cell_type": "markdown",
   "metadata": {},
   "source": [
    "### Course"
   ]
  },
  {
   "cell_type": "code",
   "execution_count": 67,
   "metadata": {},
   "outputs": [
    {
     "name": "stdout",
     "output_type": "stream",
     "text": [
      "(100, 100)\n"
     ]
    },
    {
     "name": "stderr",
     "output_type": "stream",
     "text": [
      "100%|██████████| 100/100 [00:06<00:00, 14.68it/s]"
     ]
    },
    {
     "name": "stdout",
     "output_type": "stream",
     "text": [
      "5229/10000\n"
     ]
    },
    {
     "name": "stderr",
     "output_type": "stream",
     "text": [
      "\n"
     ]
    }
   ],
   "source": [
    "courseUser_course = cluster_level_matrix(\n",
    "    R=user_course_df,\n",
    "    user_cluster=user_course_cluster,\n",
    "    item_cluster=course_cluster\n",
    ")"
   ]
  },
  {
   "cell_type": "code",
   "execution_count": 68,
   "metadata": {},
   "outputs": [
    {
     "name": "stdout",
     "output_type": "stream",
     "text": [
      "(101, 100)\n"
     ]
    },
    {
     "name": "stderr",
     "output_type": "stream",
     "text": [
      "100%|██████████| 101/101 [00:07<00:00, 13.64it/s]"
     ]
    },
    {
     "name": "stdout",
     "output_type": "stream",
     "text": [
      "3335/10100\n"
     ]
    },
    {
     "name": "stderr",
     "output_type": "stream",
     "text": [
      "\n"
     ]
    }
   ],
   "source": [
    "bookUser_course = cluster_level_matrix(\n",
    "    R=user_course_df,\n",
    "    user_cluster=user_book_cluster,\n",
    "    item_cluster=course_cluster\n",
    ")"
   ]
  },
  {
   "cell_type": "code",
   "execution_count": 69,
   "metadata": {},
   "outputs": [
    {
     "name": "stdout",
     "output_type": "stream",
     "text": [
      "(201, 100)\n"
     ]
    }
   ],
   "source": [
    "user_course_cluster_level = np.concatenate(\n",
    "    [courseUser_course, bookUser_course ],\n",
    "    axis=0\n",
    ")\n",
    "print(user_course_cluster_level.shape)"
   ]
  },
  {
   "cell_type": "code",
   "execution_count": null,
   "metadata": {},
   "outputs": [],
   "source": [
    "np.save(\n",
    "    os.path.join('result',\"CBMF\",\"clustering\",\"courseC\"),\n",
    "    user_course_cluster_level\n",
    ")"
   ]
  },
  {
   "attachments": {},
   "cell_type": "markdown",
   "metadata": {},
   "source": [
    "### Combine"
   ]
  },
  {
   "cell_type": "code",
   "execution_count": 70,
   "metadata": {},
   "outputs": [
    {
     "name": "stdout",
     "output_type": "stream",
     "text": [
      "(201, 200)\n"
     ]
    }
   ],
   "source": [
    "cb = np.concatenate(\n",
    "    [user_book_cluster_level,user_course_cluster_level],\n",
    "    axis=1\n",
    ")\n",
    "print(cb.shape)"
   ]
  },
  {
   "cell_type": "code",
   "execution_count": 71,
   "metadata": {},
   "outputs": [],
   "source": [
    "np.save(\n",
    "    os.path.join('result',\"CBMF\",\"clustering\",\"cb\"),\n",
    "    cb\n",
    ")"
   ]
  }
 ],
 "metadata": {
  "kernelspec": {
   "display_name": "tenv",
   "language": "python",
   "name": "python3"
  },
  "language_info": {
   "codemirror_mode": {
    "name": "ipython",
    "version": 3
   },
   "file_extension": ".py",
   "mimetype": "text/x-python",
   "name": "python",
   "nbconvert_exporter": "python",
   "pygments_lexer": "ipython3",
   "version": "3.9.12 (main, Apr  5 2022, 06:56:58) \n[GCC 7.5.0]"
  },
  "orig_nbformat": 4,
  "vscode": {
   "interpreter": {
    "hash": "d1e7557a9eff01b884e6816941520e312afc5d177dd75698efaf90143d68141d"
   }
  }
 },
 "nbformat": 4,
 "nbformat_minor": 2
}
