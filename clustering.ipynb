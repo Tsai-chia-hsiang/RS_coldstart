{
 "cells": [
  {
   "cell_type": "code",
   "execution_count": null,
   "metadata": {},
   "outputs": [],
   "source": [
    "%load_ext autoreload\n",
    "%autoreload\n",
    "import os\n",
    "from tqdm import tqdm\n",
    "import numpy as np\n",
    "import torch\n",
    "import pandas as pd\n",
    "from sklearn.preprocessing import normalize\n",
    "from RS.utils.dataset import Dataset as Mydataset\n",
    "from RS.utils.dataset import combine_multi_domain\n",
    "from RS.utils.dataset import user_item_clustering\n",
    "from RS.utils.mf import ALS_MF\n",
    "from RS.utils.dictutils import *\n",
    "dataroot = os.path.join(\"data\")\n",
    "d = torch.device('cuda:4')"
   ]
  },
  {
   "cell_type": "code",
   "execution_count": null,
   "metadata": {},
   "outputs": [],
   "source": [
    "datafolder = {\n",
    "    \"training_user_course\":os.path.join(\n",
    "        dataroot,\"course\",\"train.csv\"\n",
    "    ),\n",
    "    \"training_user_book\":os.path.join(\n",
    "        dataroot,\"book\",\"user_cate3_train.csv\"\n",
    "    ),\n",
    "    \"testing_user_course\":os.path.join(\n",
    "        dataroot, \"course\", \"test.csv\"\n",
    "    ),\n",
    "    \"testing_user_book\":os.path.join(\n",
    "        dataroot, \"book\", \"user_cate3_test.csv\"\n",
    "    )\n",
    "}\n",
    "\n",
    "\n",
    "dataset = Mydataset(datafolder=datafolder)"
   ]
  },
  {
   "attachments": {},
   "cell_type": "markdown",
   "metadata": {},
   "source": [
    "## Clustering"
   ]
  },
  {
   "attachments": {},
   "cell_type": "markdown",
   "metadata": {},
   "source": [
    "###  book"
   ]
  },
  {
   "cell_type": "code",
   "execution_count": null,
   "metadata": {},
   "outputs": [],
   "source": [
    "user_book_df = dataset.getdata(\n",
    "    \"training_user_book\", normalize_value=True\n",
    ")\n",
    "user_book_df.head()"
   ]
  },
  {
   "attachments": {},
   "cell_type": "markdown",
   "metadata": {},
   "source": [
    "#### user - book"
   ]
  },
  {
   "cell_type": "code",
   "execution_count": null,
   "metadata": {},
   "outputs": [],
   "source": [
    "user_item_clustering(\n",
    "    User_Item_df=user_book_df, num_clusters=100,\n",
    "    savingpath = os.path.join(\"result\",\"CBMF\",\"clustering\",\"bookdataset\") ,\n",
    "    d=d\n",
    ")"
   ]
  },
  {
   "attachments": {},
   "cell_type": "markdown",
   "metadata": {},
   "source": [
    "#### books clustering by first 2 layer "
   ]
  },
  {
   "cell_type": "code",
   "execution_count": null,
   "metadata": {},
   "outputs": [],
   "source": [
    "cate = user_book_df.drop(columns=['uid']).columns.tolist()\n",
    "step = 10\n",
    "layer2_cate = {\n",
    "    k:cate[v:v+step] \n",
    "    for k, v in enumerate(range(0, len(cate), step))\n",
    "}\n",
    "writejson(\n",
    "    layer2_cate, \n",
    "    jsfilepath=os.path.join(\n",
    "        \"result\",\"CBMF\",\"clustering\",\"bookdataset\",\"itemclustering\",\"layer2.json\"\n",
    "    )\n",
    ")\n"
   ]
  },
  {
   "attachments": {},
   "cell_type": "markdown",
   "metadata": {},
   "source": [
    "### user - course "
   ]
  },
  {
   "cell_type": "code",
   "execution_count": null,
   "metadata": {},
   "outputs": [],
   "source": [
    "user_course_df = combine_multi_domain(\n",
    "    Dataset=dataset, \n",
    "    domains=[\n",
    "        [\n",
    "            (\"training_user_course\",False,False),\n",
    "            (\"testing_user_course\",False,False)\n",
    "        ]\n",
    "    ]\n",
    ")\n",
    "user_course_df.head()"
   ]
  },
  {
   "cell_type": "code",
   "execution_count": null,
   "metadata": {},
   "outputs": [],
   "source": [
    "user_item_clustering(\n",
    "    User_Item_df=user_course_df,\n",
    "    num_clusters=100,\n",
    "    savingpath=os.path.join(\n",
    "        \"result\",\"CBMF\",\"clustering\",\"coursedataset\"\n",
    "    ),\n",
    "    d=d\n",
    ")"
   ]
  },
  {
   "attachments": {},
   "cell_type": "markdown",
   "metadata": {},
   "source": [
    "## Cross domain cluster level matrix"
   ]
  },
  {
   "cell_type": "code",
   "execution_count": null,
   "metadata": {},
   "outputs": [],
   "source": [
    "book_cluster = loadjson(\n",
    "    os.path.join(\"data\",\"book\",\"association\",\"rulesL3.json\")\n",
    ")\n",
    "\n",
    "course_cluster = loadjson(\n",
    "    os.path.join(\n",
    "        \"result\",\"CBMF\",\n",
    "        \"clustering\",\"coursedataset\",\n",
    "        \"itemclustering\", \"cluster.json\"\n",
    "    )\n",
    ")\n",
    "\n",
    "\n",
    "user_course_cluster = loadjson(\n",
    "    os.path.join(\n",
    "        \"result\",\"CBMF\",\n",
    "        \"clustering\",\"coursedataset\",\n",
    "        \"userclustering\", \"cluster.json\"\n",
    "    )\n",
    ")\n",
    "\n",
    "user_book_cluster = loadjson(\n",
    "    os.path.join(\n",
    "        \"result\",\"CBMF\",\n",
    "        \"clustering\",\"bookdataset\",\n",
    "        \"userclustering\", \"cluster.json\"\n",
    "    )\n",
    ")\n",
    "\n",
    "user_book_cluster[\n",
    "    len(user_book_cluster.keys())\n",
    "] = dataset.getdata(\"testing_user_book\").uid.tolist()"
   ]
  },
  {
   "cell_type": "code",
   "execution_count": null,
   "metadata": {},
   "outputs": [],
   "source": [
    "%autoreload\n",
    "from RS.utils.dataset import cluster_level_matrix"
   ]
  },
  {
   "attachments": {},
   "cell_type": "markdown",
   "metadata": {},
   "source": [
    "### Book "
   ]
  },
  {
   "cell_type": "code",
   "execution_count": null,
   "metadata": {},
   "outputs": [],
   "source": [
    "courseUser_book = cluster_level_matrix(\n",
    "    R=dataset.getdata(\"training_user_book\"),\n",
    "    user_cluster=user_course_cluster,\n",
    "    item_cluster=book_cluster\n",
    ")\n",
    "print(courseUser_book.shape)"
   ]
  },
  {
   "cell_type": "code",
   "execution_count": null,
   "metadata": {},
   "outputs": [],
   "source": [
    "bookUser_book = cluster_level_matrix(\n",
    "    R=dataset.getdata(\"training_user_book\"),\n",
    "    user_cluster=user_book_cluster,\n",
    "    item_cluster=book_cluster\n",
    ")"
   ]
  },
  {
   "cell_type": "code",
   "execution_count": null,
   "metadata": {},
   "outputs": [],
   "source": [
    "user_book_cluster_level = np.concatenate(\n",
    "    [courseUser_book, bookUser_book ],\n",
    "    axis=0\n",
    ")\n",
    "user_book_cluster_level = normalize(\n",
    "    user_book_cluster_level, norm=\"l1\",axis=1\n",
    ")\n",
    "print(user_book_cluster_level.shape)"
   ]
  },
  {
   "cell_type": "code",
   "execution_count": null,
   "metadata": {},
   "outputs": [],
   "source": [
    "np.save(\n",
    "    os.path.join('result',\"CBMF\",\"clustering\",\"AssbookC\"),\n",
    "    user_book_cluster_level\n",
    ")"
   ]
  },
  {
   "attachments": {},
   "cell_type": "markdown",
   "metadata": {},
   "source": [
    "### Course"
   ]
  },
  {
   "cell_type": "code",
   "execution_count": null,
   "metadata": {},
   "outputs": [],
   "source": [
    "courseUser_course = cluster_level_matrix(\n",
    "    R=user_course_df,\n",
    "    user_cluster=user_course_cluster,\n",
    "    item_cluster=course_cluster\n",
    ")"
   ]
  },
  {
   "cell_type": "code",
   "execution_count": null,
   "metadata": {},
   "outputs": [],
   "source": [
    "bookUser_course = cluster_level_matrix(\n",
    "    R=user_course_df,\n",
    "    user_cluster=user_book_cluster,\n",
    "    item_cluster=course_cluster\n",
    ")"
   ]
  },
  {
   "cell_type": "code",
   "execution_count": null,
   "metadata": {},
   "outputs": [],
   "source": [
    "user_course_cluster_level = np.concatenate(\n",
    "    [courseUser_course, bookUser_course ],\n",
    "    axis=0\n",
    ")\n",
    "print(user_course_cluster_level.shape)"
   ]
  },
  {
   "cell_type": "code",
   "execution_count": null,
   "metadata": {},
   "outputs": [],
   "source": [
    "np.save(\n",
    "    os.path.join('result',\"CBMF\",\"clustering\",\"courseC\"),\n",
    "    user_course_cluster_level\n",
    ")"
   ]
  },
  {
   "attachments": {},
   "cell_type": "markdown",
   "metadata": {},
   "source": [
    "### Combine"
   ]
  },
  {
   "cell_type": "code",
   "execution_count": null,
   "metadata": {},
   "outputs": [],
   "source": [
    "user_course_cluster_level = np.load(\n",
    "    os.path.join('result',\"CBMF\",\"clustering\",\"courseC.npy\")\n",
    ")"
   ]
  },
  {
   "cell_type": "code",
   "execution_count": null,
   "metadata": {},
   "outputs": [],
   "source": [
    "cb = np.concatenate(\n",
    "    [user_book_cluster_level,user_course_cluster_level],\n",
    "    axis=1\n",
    ")\n",
    "print(cb.shape)"
   ]
  },
  {
   "cell_type": "code",
   "execution_count": null,
   "metadata": {},
   "outputs": [],
   "source": [
    "np.save(os.path.join('result',\"CBMF\",\"clustering\",\"Ass_cb\"),cb)"
   ]
  }
 ],
 "metadata": {
  "kernelspec": {
   "display_name": "tenv",
   "language": "python",
   "name": "python3"
  },
  "language_info": {
   "codemirror_mode": {
    "name": "ipython",
    "version": 3
   },
   "file_extension": ".py",
   "mimetype": "text/x-python",
   "name": "python",
   "nbconvert_exporter": "python",
   "pygments_lexer": "ipython3",
   "version": "3.10.12"
  },
  "orig_nbformat": 4,
  "vscode": {
   "interpreter": {
    "hash": "d1e7557a9eff01b884e6816941520e312afc5d177dd75698efaf90143d68141d"
   }
  }
 },
 "nbformat": 4,
 "nbformat_minor": 2
}
