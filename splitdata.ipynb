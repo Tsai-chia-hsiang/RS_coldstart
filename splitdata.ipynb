{
 "cells": [
  {
   "cell_type": "code",
   "execution_count": 2,
   "metadata": {},
   "outputs": [],
   "source": [
    "import pandas as pd\n",
    "from tqdm import tqdm\n",
    "import os\n",
    "import json\n",
    "import numpy as np\n",
    "import matplotlib.pyplot as plt\n",
    "from RS.utils.dictutils import *\n",
    "from RS.utils.dataset import transpose_df\n",
    "\n",
    "\n",
    "dataroot = os.path.join(\"data\")\n"
   ]
  },
  {
   "attachments": {},
   "cell_type": "markdown",
   "metadata": {},
   "source": [
    "## Split training and testing data\n",
    "\n",
    "testing school year: 499*"
   ]
  },
  {
   "cell_type": "markdown",
   "metadata": {},
   "source": [
    "### User Course"
   ]
  },
  {
   "cell_type": "code",
   "execution_count": null,
   "metadata": {},
   "outputs": [],
   "source": [
    "user_course_dense = pd.read_csv(\n",
    "    os.path.join(dataroot,\"course\",\"usercoursedense.csv\"),\n",
    "    encoding='utf-8'\n",
    ")\n",
    "user_course_dense['uid'] = user_course_dense['uid'].astype(str)\n",
    "user_course_dense.head()"
   ]
  },
  {
   "cell_type": "code",
   "execution_count": null,
   "metadata": {},
   "outputs": [],
   "source": [
    "user_course_dense.shape"
   ]
  },
  {
   "cell_type": "code",
   "execution_count": null,
   "metadata": {},
   "outputs": [],
   "source": [
    "user_course_test = user_course_dense[\n",
    "    user_course_dense.uid.str.startswith('499')\n",
    "]\n",
    "user_course_test.head()"
   ]
  },
  {
   "cell_type": "code",
   "execution_count": null,
   "metadata": {},
   "outputs": [],
   "source": [
    "user_course_test.shape"
   ]
  },
  {
   "cell_type": "code",
   "execution_count": null,
   "metadata": {},
   "outputs": [],
   "source": [
    "user_course_train = user_course_dense[\n",
    "    ~user_course_dense.uid.str.startswith('499')\n",
    "]\n",
    "user_course_train.head()"
   ]
  },
  {
   "cell_type": "code",
   "execution_count": null,
   "metadata": {},
   "outputs": [],
   "source": [
    "user_course_train.shape"
   ]
  },
  {
   "cell_type": "code",
   "execution_count": null,
   "metadata": {},
   "outputs": [],
   "source": [
    "user_course_train.to_csv(\n",
    "    os.path.join(dataroot, \"course\",\"train.csv\"),\n",
    "    index = False\n",
    ")\n",
    "user_course_test.to_csv(\n",
    "    os.path.join(dataroot, \"course\", \"test.csv\"),\n",
    "    index = False\n",
    ")"
   ]
  },
  {
   "attachments": {},
   "cell_type": "markdown",
   "metadata": {},
   "source": [
    "### Book User"
   ]
  },
  {
   "cell_type": "code",
   "execution_count": null,
   "metadata": {},
   "outputs": [],
   "source": [
    "book_user = pd.read_csv(\n",
    "    os.path.join(dataroot, \"book\", \"cate3_userdense.csv\")\n",
    ")\n",
    "book_user.head()"
   ]
  },
  {
   "cell_type": "code",
   "execution_count": null,
   "metadata": {},
   "outputs": [],
   "source": [
    "test_students = list(\n",
    "    x for x in list(book_user.columns) if x[:3]==\"499\"\n",
    ")\n",
    "print(len(test_students))"
   ]
  },
  {
   "cell_type": "code",
   "execution_count": null,
   "metadata": {},
   "outputs": [],
   "source": [
    "book_user_test = book_user[test_students]\n",
    "book_user_test.head()"
   ]
  },
  {
   "cell_type": "code",
   "execution_count": null,
   "metadata": {},
   "outputs": [],
   "source": [
    "train_students = list(\n",
    "    x for x in list(book_user.columns) if x[:3]!=\"499\"\n",
    ")\n",
    "book_user_train = book_user[train_students]\n",
    "book_user_train.head()"
   ]
  },
  {
   "cell_type": "code",
   "execution_count": null,
   "metadata": {},
   "outputs": [],
   "source": [
    "book_user_train.to_csv(\n",
    "    os.path.join(dataroot, \"book\", \"cate3_train.csv\"),\n",
    "    index = False\n",
    ")\n",
    "book_user_test.to_csv(\n",
    "    os.path.join(dataroot, \"book\", \"cate3_test.csv\"),\n",
    "    index = False\n",
    ")"
   ]
  },
  {
   "cell_type": "code",
   "execution_count": null,
   "metadata": {},
   "outputs": [],
   "source": [
    "train_des = np.sum(book_user_train.values,axis = 0 )\n",
    "test_des = np.sum(book_user_test.values, axis = 0)\n",
    "\n",
    "fig = plt.figure(dpi=800)\n",
    "plt.subplot(121)\n",
    "plt.plot(\n",
    "    list(i for i in range(book_user_train.shape[1])), \n",
    "    train_des, label=f\"avg:{np.mean(train_des):.0f}\"\n",
    ")\n",
    "plt.legend()\n",
    "plt.title(\"train\")\n",
    "\n",
    "plt.subplot(122)\n",
    "plt.plot(\n",
    "    list(i for i in range(book_user_test.shape[1])), \n",
    "    test_des,label=f\"avg:{np.mean(test_des):.0f}\"\n",
    ")\n",
    "plt.legend()\n",
    "plt.title(\"test\")\n",
    "\n",
    "plt.tight_layout()\n",
    "plt.savefig(\n",
    "    os.path.join(dataroot,\"book\",\"train_test_count.jpg\")\n",
    ")"
   ]
  },
  {
   "attachments": {},
   "cell_type": "markdown",
   "metadata": {},
   "source": [
    "#### User book (transpose of above)"
   ]
  },
  {
   "cell_type": "code",
   "execution_count": null,
   "metadata": {},
   "outputs": [],
   "source": [
    "book_user_train = pd.read_csv(\n",
    "    os.path.join(\"data\", \"book\", \"cate3_train.csv\")\n",
    ")\n",
    "book_user_train.head()"
   ]
  },
  {
   "cell_type": "code",
   "execution_count": 3,
   "metadata": {},
   "outputs": [],
   "source": [
    "user_book_train = transpose_df(\n",
    "    df= book_user_train,col_to=\"uid\"\n",
    ")\n",
    "user_book_train.to_csv(\n",
    "    os.path.join(dataroot, \"book\", \"user_cate3_train.csv\"),\n",
    "    index=False\n",
    ")"
   ]
  },
  {
   "cell_type": "markdown",
   "metadata": {},
   "source": [
    "#### Groundtruth of testing users"
   ]
  },
  {
   "cell_type": "code",
   "execution_count": 3,
   "metadata": {},
   "outputs": [],
   "source": [
    "book_user_test= pd.read_csv(\n",
    "    os.path.join(dataroot, \"book\", \"cate3_test.csv\")\n",
    ")"
   ]
  },
  {
   "cell_type": "code",
   "execution_count": 4,
   "metadata": {},
   "outputs": [
    {
     "name": "stderr",
     "output_type": "stream",
     "text": [
      "100%|██████████| 1254/1254 [00:00<00:00, 6453.64it/s]\n"
     ]
    }
   ],
   "source": [
    "groundtruth = {}\n",
    "for ui in tqdm(book_user_test.columns.tolist()):\n",
    "    gthi = book_user_test[ui].values\n",
    "    actual = np.where(gthi>0)[0].tolist()\n",
    "    actual = list(map(lambda x:str(x), actual))\n",
    "    groundtruth[ui] = actual\n",
    "\n",
    "writejson(\n",
    "    dictionary=groundtruth, \n",
    "    jsfilepath=os.path.join(\n",
    "        \"result\", \"testing_user_groundtruth.json\"\n",
    "    )\n",
    ")"
   ]
  }
 ],
 "metadata": {
  "kernelspec": {
   "display_name": "tenv",
   "language": "python",
   "name": "python3"
  },
  "language_info": {
   "codemirror_mode": {
    "name": "ipython",
    "version": 3
   },
   "file_extension": ".py",
   "mimetype": "text/x-python",
   "name": "python",
   "nbconvert_exporter": "python",
   "pygments_lexer": "ipython3",
   "version": "3.9.12"
  },
  "orig_nbformat": 4,
  "vscode": {
   "interpreter": {
    "hash": "d1e7557a9eff01b884e6816941520e312afc5d177dd75698efaf90143d68141d"
   }
  }
 },
 "nbformat": 4,
 "nbformat_minor": 2
}
